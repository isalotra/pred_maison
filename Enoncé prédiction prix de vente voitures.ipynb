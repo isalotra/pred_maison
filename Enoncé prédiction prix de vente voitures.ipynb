{
 "cells": [
  {
   "cell_type": "markdown",
   "metadata": {},
   "source": [
    "# Projet guidé : Prédiction prix de vente de voitures"
   ]
  },
  {
   "cell_type": "markdown",
   "metadata": {},
   "source": [
    "## 1. Introduction au dataset"
   ]
  },
  {
   "cell_type": "code",
   "execution_count": 2,
   "metadata": {
    "scrolled": true
   },
   "outputs": [
    {
     "data": {
      "text/html": [
       "<div>\n",
       "<style scoped>\n",
       "    .dataframe tbody tr th:only-of-type {\n",
       "        vertical-align: middle;\n",
       "    }\n",
       "\n",
       "    .dataframe tbody tr th {\n",
       "        vertical-align: top;\n",
       "    }\n",
       "\n",
       "    .dataframe thead th {\n",
       "        text-align: right;\n",
       "    }\n",
       "</style>\n",
       "<table border=\"1\" class=\"dataframe\">\n",
       "  <thead>\n",
       "    <tr style=\"text-align: right;\">\n",
       "      <th></th>\n",
       "      <th>normalized-losses</th>\n",
       "      <th>wheel-base</th>\n",
       "      <th>length</th>\n",
       "      <th>width</th>\n",
       "      <th>height</th>\n",
       "      <th>curb-weight</th>\n",
       "      <th>bore</th>\n",
       "      <th>stroke</th>\n",
       "      <th>compression-rate</th>\n",
       "      <th>horsepower</th>\n",
       "      <th>peak-rpm</th>\n",
       "      <th>city-mpg</th>\n",
       "      <th>highway-mpg</th>\n",
       "      <th>price</th>\n",
       "    </tr>\n",
       "  </thead>\n",
       "  <tbody>\n",
       "    <tr>\n",
       "      <th>0</th>\n",
       "      <td>?</td>\n",
       "      <td>88.6</td>\n",
       "      <td>168.8</td>\n",
       "      <td>64.1</td>\n",
       "      <td>48.8</td>\n",
       "      <td>2548</td>\n",
       "      <td>3.47</td>\n",
       "      <td>2.68</td>\n",
       "      <td>9.0</td>\n",
       "      <td>111</td>\n",
       "      <td>5000</td>\n",
       "      <td>21</td>\n",
       "      <td>27</td>\n",
       "      <td>13495</td>\n",
       "    </tr>\n",
       "    <tr>\n",
       "      <th>1</th>\n",
       "      <td>?</td>\n",
       "      <td>88.6</td>\n",
       "      <td>168.8</td>\n",
       "      <td>64.1</td>\n",
       "      <td>48.8</td>\n",
       "      <td>2548</td>\n",
       "      <td>3.47</td>\n",
       "      <td>2.68</td>\n",
       "      <td>9.0</td>\n",
       "      <td>111</td>\n",
       "      <td>5000</td>\n",
       "      <td>21</td>\n",
       "      <td>27</td>\n",
       "      <td>16500</td>\n",
       "    </tr>\n",
       "    <tr>\n",
       "      <th>2</th>\n",
       "      <td>?</td>\n",
       "      <td>94.5</td>\n",
       "      <td>171.2</td>\n",
       "      <td>65.5</td>\n",
       "      <td>52.4</td>\n",
       "      <td>2823</td>\n",
       "      <td>2.68</td>\n",
       "      <td>3.47</td>\n",
       "      <td>9.0</td>\n",
       "      <td>154</td>\n",
       "      <td>5000</td>\n",
       "      <td>19</td>\n",
       "      <td>26</td>\n",
       "      <td>16500</td>\n",
       "    </tr>\n",
       "    <tr>\n",
       "      <th>3</th>\n",
       "      <td>164</td>\n",
       "      <td>99.8</td>\n",
       "      <td>176.6</td>\n",
       "      <td>66.2</td>\n",
       "      <td>54.3</td>\n",
       "      <td>2337</td>\n",
       "      <td>3.19</td>\n",
       "      <td>3.40</td>\n",
       "      <td>10.0</td>\n",
       "      <td>102</td>\n",
       "      <td>5500</td>\n",
       "      <td>24</td>\n",
       "      <td>30</td>\n",
       "      <td>13950</td>\n",
       "    </tr>\n",
       "    <tr>\n",
       "      <th>4</th>\n",
       "      <td>164</td>\n",
       "      <td>99.4</td>\n",
       "      <td>176.6</td>\n",
       "      <td>66.4</td>\n",
       "      <td>54.3</td>\n",
       "      <td>2824</td>\n",
       "      <td>3.19</td>\n",
       "      <td>3.40</td>\n",
       "      <td>8.0</td>\n",
       "      <td>115</td>\n",
       "      <td>5500</td>\n",
       "      <td>18</td>\n",
       "      <td>22</td>\n",
       "      <td>17450</td>\n",
       "    </tr>\n",
       "  </tbody>\n",
       "</table>\n",
       "</div>"
      ],
      "text/plain": [
       "  normalized-losses  wheel-base  length  width  height  curb-weight  bore  \\\n",
       "0                 ?        88.6   168.8   64.1    48.8         2548  3.47   \n",
       "1                 ?        88.6   168.8   64.1    48.8         2548  3.47   \n",
       "2                 ?        94.5   171.2   65.5    52.4         2823  2.68   \n",
       "3               164        99.8   176.6   66.2    54.3         2337  3.19   \n",
       "4               164        99.4   176.6   66.4    54.3         2824  3.19   \n",
       "\n",
       "  stroke  compression-rate horsepower peak-rpm  city-mpg  highway-mpg  price  \n",
       "0   2.68               9.0        111     5000        21           27  13495  \n",
       "1   2.68               9.0        111     5000        21           27  16500  \n",
       "2   3.47               9.0        154     5000        19           26  16500  \n",
       "3   3.40              10.0        102     5500        24           30  13950  \n",
       "4   3.40               8.0        115     5500        18           22  17450  "
      ]
     },
     "execution_count": 2,
     "metadata": {},
     "output_type": "execute_result"
    }
   ],
   "source": []
  },
  {
   "cell_type": "markdown",
   "metadata": {},
   "source": [
    "Pistes à suivre:\n",
    "- Lire le fichier imports-85.data dans un DataFrame qu'on nommera cars. Si vous lisez le fichier à l'aide de pandas.read_csv() sans spécifier de valeur de paramètre supplémentaire, vous remarquerez que les noms de colonne ne correspondent pas à ceux de la documentation du dataset. Comment résoudre ce problème? \n",
    "- Quelles sont les colonnes numériques? Déterminer les caractéristiques et la colonne cible.\n",
    "- Afficher les premières lignes du DataFrame.\n",
    "- Sélectionner ensuite seulement les colonnes de valeurs continues (à partir de la documentation). Vous nommerez ce nouveau DataFrame numeric_cars. \n",
    "- Afficher les 5 premières valeurs de numeric_cars et s'assurer que cela ressemble à l'aperçu ci-dessus."
   ]
  },
  {
   "cell_type": "markdown",
   "metadata": {},
   "source": [
    "## 2. Nettoyage des données"
   ]
  },
  {
   "cell_type": "markdown",
   "metadata": {},
   "source": [
    "Pistes à suivre:\n",
    "- Utiliser la méthode DataFrame.replace() pour remplacer toutes les valeurs '?' avec la valeur manquante numpy.nan.\n",
    "- Parce que '?' est une valeur de type string, les colonnes contenant cette valeur ont été converties dans le type de données object de pandas (au lieu d'un type numérique comme int ou float). Après avoir remplacé les valeurs '?', déterminez quelles colonnes doivent être converties en type numérique. Vous pouvez utiliser les méthodes DataFrame.astype() ou Series.astype() pour convertir les colonnes en d'autres types de données.\n",
    "- Retourner le nombre de lignes pour lesquelles une valeur est manquante dans la colonne 'normalized-losses'. Déterminez comment vous devez gérer cette colonne. Vous pourriez:\n",
    " + Remplacer les valeurs manquantes en utilisant les valeurs moyennes de cette colonne.\n",
    " + Supprimer entièrement les lignes (en particulier si des valeurs sont manquantes dans les autres colonnes de ces lignes).\n",
    " + Supprimer la colonne entièrement.\n",
    "- Explorer le nombre de valeurs manquantes pour les autres colonnes et gérer les valeurs manquantes.\n",
    "- Parmi les colonnes que vous avez décidé de conserver, normaliser les unités numériques de manière à ce que toutes les valeurs soient comprises entre 0 et 1.\n",
    "- Afficher les 5 premières lignes pour vérifier."
   ]
  },
  {
   "cell_type": "markdown",
   "metadata": {},
   "source": [
    "## 3. Modèle univarié"
   ]
  },
  {
   "cell_type": "markdown",
   "metadata": {},
   "source": [
    "Pistes à suivre:\n",
    "- Créer une fonction nommée, knn_train_test() qui encapsule le processus d'entrainement et de validation simple. Cette fonction doit avoir 3 paramètres: nom de la colonne d'apprentissage, nom de la colonne cible et objet dataframe.\n",
    " + Cette fonction doit scinder le dataset en un set de training et de test.\n",
    " + Ensuite, il convient d'instancier la classe KNeighborsRegressor, d'ajuster le modèle au set de training et de faire des prédictions sur le set de test.\n",
    " + Enfin, il convient de calculer la racine carrée d'erreur de moyenne quadratique RMSE et de retourner cette valeur.\n",
    "- Utiliser cette fonction pour entrainer et tester des modèles univariés en utilisant les différentes colonnes numériques du dataset. Quelle colonne a obtenu les meilleurs résultats avec la valeur k par défaut?\n",
    "- Modifier la fonction knn_train_test() que vous avez écrite pour accepter un paramètre pour la valeur k.\n",
    " + Mettre à jour la logique de la fonction pour utiliser ce paramètre.\n",
    " + Pour chaque colonne numérique, créer, entrainer et tester un modèle univarié en utilisant les valeurs k suivantes (1, 3, 5, 7, et 9). \n",
    " + Visualiser les résultats à l'aide d'un graphique à nuage de points ou d'un tracé linéaire.\n",
    " + Trier les caractéristiques par moyenne de valeurs RMSE."
   ]
  },
  {
   "cell_type": "markdown",
   "metadata": {},
   "source": [
    "## 4. Modèle multivarié"
   ]
  },
  {
   "cell_type": "markdown",
   "metadata": {},
   "source": [
    "Pistes à suivre:\n",
    "- Modifier la fonction knn_train_test() pour qu'elle accepte une liste de noms de colonne (au lieu d'un simple élément string). Modifier le reste de la logique de la fonction pour utiliser ce paramètre:\n",
    " + Au lieu d'utiliser une seule colonne pour entrainer et tester, utiliser toutes les colonnes transmises.\n",
    " + Utiliser la valeur k par défaut de scikit-learn pour le moment (nous ajusterons la valeur k à l'étape suivante).\n",
    "- Utiliser les 2 meilleures caractéristiques de l'étape précédente pour entrainer et tester un modèle multivarié des k plus proches voisins en utilisant la valeur k par défaut.\n",
    "- Utiliser les 3 meilleures caractéristiques de l'étape précédente pour entrainer et tester un modèle multivarié des k plus proches voisins en utilisant la valeur k par défaut.\n",
    "- Utiliser les 4 meilleures caractéristiques de l'étape précédente pour entrainer et tester un modèle multivarié des k plus proches voisins en utilisant la valeur k par défaut.\n",
    "- Utiliser les 5 meilleures caractéristiques de l'étape précédente pour entrainer et tester un modèle multivarié des k plus proches voisins en utilisant la valeur k par défaut.\n",
    "- Utiliser les 6 meilleures caractéristiques de l'étape précédente pour entrainer et tester un modèle multivarié des k plus proches voisins en utilisant la valeur k par défaut.\n",
    "- Afficher toutes les valeurs RMSE."
   ]
  },
  {
   "cell_type": "markdown",
   "metadata": {},
   "source": [
    "## 5. Variation des hyper paramètres"
   ]
  },
  {
   "cell_type": "markdown",
   "metadata": {},
   "source": [
    "Pistes à suivre:\n",
    "- Pour les 3 premiers modèles de la dernière étape, modifier la valeur de l'hyper paramètre de 1 à 25 et tracer les valeurs RMSE obtenues.\n",
    "- Quelle valeur de k est optimal pour chaque modèle? Quelle différence y a-t-il entre les valeurs k et selon vous, qu'est ce qui explique ces différences?"
   ]
  }
 ],
 "metadata": {
  "kernelspec": {
   "display_name": "Python 3",
   "language": "python",
   "name": "python3"
  },
  "language_info": {
   "codemirror_mode": {
    "name": "ipython",
    "version": 3
   },
   "file_extension": ".py",
   "mimetype": "text/x-python",
   "name": "python",
   "nbconvert_exporter": "python",
   "pygments_lexer": "ipython3",
   "version": "3.7.3"
  }
 },
 "nbformat": 4,
 "nbformat_minor": 2
}
